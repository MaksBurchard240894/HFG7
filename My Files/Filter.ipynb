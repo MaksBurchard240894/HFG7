{
 "cells": [
  {
   "cell_type": "code",
   "execution_count": 2,
   "metadata": {},
   "outputs": [
    {
     "name": "stdout",
     "output_type": "stream",
     "text": [
      "Keyword Alert: Possible distress detected.\n",
      "No distress detected.\n"
     ]
    }
   ],
   "source": [
    "from textblob import TextBlob\n",
    "\n",
    "def detect_distress(message):\n",
    "    distress_keywords = [\"help\", \"danger\", \"scared\", \"unsafe\", \"hurt\", \"suicidal\"]\n",
    "    \n",
    "    # Check for keywords\n",
    "    if any(word in message.lower() for word in distress_keywords):\n",
    "        return \"Keyword Alert: Possible distress detected.\"\n",
    "\n",
    "    # Sentiment Analysis\n",
    "    sentiment = TextBlob(message).sentiment.polarity  # -1 (negative) to 1 (positive)\n",
    "    if sentiment < -0.5:\n",
    "        return \"Sentiment Alert: Negative sentiment detected.\"\n",
    "    \n",
    "    return \"No distress detected.\"\n",
    "\n",
    "# Test Cases\n",
    "print(detect_distress(\"I feel really unsafe right now.\"))  \n",
    "print(detect_distress(\"I am happy today!\")) \n",
    "\n"
   ]
  },
  {
   "cell_type": "code",
   "execution_count": 5,
   "metadata": {},
   "outputs": [
    {
     "name": "stdout",
     "output_type": "stream",
     "text": [
      "True\n"
     ]
    }
   ],
   "source": [
    "class ChatHistory:\n",
    "    def __init__(self):\n",
    "        self.history = []\n",
    "\n",
    "    def add_message(self, message):\n",
    "        self.history.append(message)\n",
    "        if len(self.history) > 5:  # Keep last 5 messages\n",
    "            self.history.pop(0)\n",
    "\n",
    "    def detect_pattern(self):\n",
    "        distress_count = sum(1 for msg in self.history if detect_distress(msg) != \"No distress detected.\")\n",
    "        return distress_count >= 3  # Flag if 3+ messages indicate distress\n",
    "\n",
    "# Example Usage\n",
    "chat = ChatHistory()\n",
    "chat.add_message(\"I'm feeling really bad.\")\n",
    "chat.add_message(\"I don't know what to do.\")\n",
    "chat.add_message(\"I feel unsafe.\")\n",
    "chat.add_message(\"I feel like I'm in danger.\")\n",
    "print(chat.detect_pattern()) "
   ]
  },
  {
   "cell_type": "code",
   "execution_count": 4,
   "metadata": {},
   "outputs": [],
   "source": [
    "def escalate_help(message):\n",
    "    if detect_distress(message) != \"No distress detected.\":\n",
    "        return \"It looks like you're struggling. Would you like me to connect you with a crisis helpline?\"\n",
    "    return \"I'm here to chat! How can I assist you?\""
   ]
  }
 ],
 "metadata": {
  "kernelspec": {
   "display_name": "2_block",
   "language": "python",
   "name": "python3"
  },
  "language_info": {
   "codemirror_mode": {
    "name": "ipython",
    "version": 3
   },
   "file_extension": ".py",
   "mimetype": "text/x-python",
   "name": "python",
   "nbconvert_exporter": "python",
   "pygments_lexer": "ipython3",
   "version": "3.9.21"
  }
 },
 "nbformat": 4,
 "nbformat_minor": 2
}
