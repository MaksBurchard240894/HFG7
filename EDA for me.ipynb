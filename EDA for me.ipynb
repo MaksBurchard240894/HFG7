{
 "cells": [
  {
   "cell_type": "code",
   "execution_count": 14,
   "metadata": {},
   "outputs": [],
   "source": [
    "import numpy as np\n",
    "import pandas as pd\n",
    "import matplotlib as plt"
   ]
  },
  {
   "cell_type": "code",
   "execution_count": null,
   "metadata": {},
   "outputs": [],
   "source": [
    "df_insta = pd.read_csv(\"instagram_comments20250115_154508_0.csv\")\n",
    "df_YT = pd.read_csv(r\"\\Users\\maksb\\Documents\\GitHub\\Own\\youtube_comments_20250117_191653_0.csv\", low_memory=False)\n",
    "df_reddit = pd.read_csv(r\"\\Users\\maksb\\Documents\\GitHub\\Own\\reddit_comments_20250117_191430_0.csv\", low_memory=False)\n",
    "df_tiktok = pd.read_csv(r\"\\Users\\maksb\\Documents\\GitHub\\Own\\tiktok_comments_20250115_155340_0.csv\", low_memory=False)\n",
    "print(df_insta.head())\n",
    "print(df_YT.head())\n",
    "print(df_reddit.head())\n",
    "print(df_tiktok.head())"
   ]
  },
  {
   "cell_type": "code",
   "execution_count": 17,
   "metadata": {},
   "outputs": [
    {
     "name": "stdout",
     "output_type": "stream",
     "text": [
      "               comment_date  \\\n",
      "0  2024-04-28T15:58:08.000Z   \n",
      "1  2023-11-13T13:17:00.000Z   \n",
      "2  2024-01-06T15:27:24.000Z   \n",
      "3  2024-01-13T16:02:42.000Z   \n",
      "4  2024-02-29T10:24:43.000Z   \n",
      "\n",
      "                                             comment  likes_number  \\\n",
      "0  @lyniqueodendaal sooo trots op jou vriendin, j...             0   \n",
      "1                                              Ready             0   \n",
      "2  From my experience of working with homeless pe...             1   \n",
      "3                           4⁷@thewomen__power__ 🇩 🇲             0   \n",
      "4                                           ❤️❤️❤️🙌🙌             0   \n",
      "\n",
      "   replies_number  \n",
      "0               0  \n",
      "1               0  \n",
      "2               2  \n",
      "3               0  \n",
      "4               0  \n",
      "                                        comment_text  likes  replies  \\\n",
      "0  Love how he gave the shine to his wife and his...      3      0.0   \n",
      "1                                      I like donuts      2      0.0   \n",
      "2        ahh yes james, the epitome of a vibe killer     28      0.0   \n",
      "3  If you live in Minnesota and Wisconsin you alr...      5      0.0   \n",
      "4  Watching this reminded me of the times when kr...    151      4.0   \n",
      "\n",
      "          date  \n",
      "0  2 years ago  \n",
      "1  2 years ago  \n",
      "2  3 years ago  \n",
      "3  3 years ago  \n",
      "4  3 years ago  \n"
     ]
    }
   ],
   "source": [
    "df_insta_sorted = df_insta[[\"comment_date\", \"comment\", \"likes_number\", \"replies_number\"]]\n",
    "df_YT_sorted = df_YT[[\"comment_text\", \"likes\", \"replies\", \"date\"]]\n",
    "#comment_date, comment, likes_number, replies_number\n",
    "print(df_insta_sorted.head())\n",
    "print(df_YT_sorted.head())"
   ]
  }
 ],
 "metadata": {
  "kernelspec": {
   "display_name": "2_block",
   "language": "python",
   "name": "python3"
  },
  "language_info": {
   "codemirror_mode": {
    "name": "ipython",
    "version": 3
   },
   "file_extension": ".py",
   "mimetype": "text/x-python",
   "name": "python",
   "nbconvert_exporter": "python",
   "pygments_lexer": "ipython3",
   "version": "3.9.21"
  }
 },
 "nbformat": 4,
 "nbformat_minor": 2
}
