{
 "cells": [
  {
   "cell_type": "code",
   "execution_count": 1,
   "metadata": {},
   "outputs": [
    {
     "name": "stderr",
     "output_type": "stream",
     "text": [
      "No model was supplied, defaulted to distilbert/distilbert-base-uncased-finetuned-sst-2-english and revision 714eb0f (https://huggingface.co/distilbert/distilbert-base-uncased-finetuned-sst-2-english).\n",
      "Using a pipeline without specifying a model name and revision in production is not recommended.\n",
      "Device set to use mps:0\n",
      "/opt/anaconda3/lib/python3.12/site-packages/gradio/blocks.py:1057: UserWarning: Cannot load compact. Caught Exception: 404 Client Error: Not Found for url: https://huggingface.co/api/spaces/compact (Request ID: Root=1-679f4e04-1e1c80d34bd060532062a319;3215f815-5fa6-48d8-99a3-0034bbc8ec3c)\n",
      "\n",
      "Sorry, we can't find the page you are looking for.\n",
      "  warnings.warn(f\"Cannot load {theme}. Caught Exception: {str(e)}\")\n",
      "/opt/anaconda3/lib/python3.12/site-packages/gradio/components/chatbot.py:288: UserWarning: The 'tuples' format for chatbot messages is deprecated and will be removed in a future version of Gradio. Please set type='messages' instead, which uses openai-style 'role' and 'content' keys.\n",
      "  warnings.warn(\n"
     ]
    },
    {
     "name": "stdout",
     "output_type": "stream",
     "text": [
      "* Running on local URL:  http://127.0.0.1:7860\n",
      "\n",
      "To create a public link, set `share=True` in `launch()`.\n"
     ]
    },
    {
     "data": {
      "text/html": [
       "<div><iframe src=\"http://127.0.0.1:7860/\" width=\"100%\" height=\"500\" allow=\"autoplay; camera; microphone; clipboard-read; clipboard-write;\" frameborder=\"0\" allowfullscreen></iframe></div>"
      ],
      "text/plain": [
       "<IPython.core.display.HTML object>"
      ]
     },
     "metadata": {},
     "output_type": "display_data"
    },
    {
     "data": {
      "text/plain": []
     },
     "execution_count": 1,
     "metadata": {},
     "output_type": "execute_result"
    }
   ],
   "source": [
    "\n",
    "import gradio as gr\n",
    "import torch\n",
    "from transformers import pipeline\n",
    "from vaderSentiment.vaderSentiment import SentimentIntensityAnalyzer\n",
    "from detoxify import Detoxify\n",
    "\n",
    "# Initialize AI Models\n",
    "sia = SentimentIntensityAnalyzer()\n",
    "sentiment_pipeline = pipeline(\"sentiment-analysis\")\n",
    "\n",
    "# Function to process conversation and detect risk level\n",
    "def chatbot_response(message, history):\n",
    "    \"\"\"\n",
    "    AI-powered chatbot that:\n",
    "    - Greets the user\n",
    "    - Analyzes messages using AI models for suicide risk detection\n",
    "    - Provides emergency contacts for high-risk messages\n",
    "    \"\"\"\n",
    "\n",
    "    # Step 1: Greeting & Friendly Response\n",
    "    message = message.strip().lower()\n",
    "    if \"hello\" in message or \"hi\" in message:\n",
    "        return \"👋 Hello, my friend! How are you feeling today? 💙\"\n",
    "\n",
    "    if \"help\" in message:\n",
    "        return \"I'm here for you! What do you need help with? 😊\"\n",
    "\n",
    "    # Step 2: Analyze Message for Sentiment & Toxicity\n",
    "    sentiment_score = sia.polarity_scores(message)[\"compound\"]\n",
    "    toxicity_scores = Detoxify(\"original\").predict(message)\n",
    "\n",
    "    # Extract AI Model Predictions\n",
    "    toxicity = toxicity_scores[\"toxicity\"]\n",
    "    severe_toxicity = toxicity_scores[\"severe_toxicity\"]\n",
    "    insult = toxicity_scores[\"insult\"]\n",
    "    threat = toxicity_scores[\"threat\"]\n",
    "\n",
    "    # Step 3: Advanced Negative Sentiment Scoring Using DistilBERT\n",
    "    bert_sentiment = sentiment_pipeline(message)\n",
    "    negativity_score = bert_sentiment[0][\"score\"] if bert_sentiment[0][\"label\"] == \"NEGATIVE\" else 0\n",
    "\n",
    "    # Step 4: Automatically Classify Suicide Risk Level\n",
    "    if toxicity > 0.7 or severe_toxicity > 0.5 or threat > 0.5 or sentiment_score < -0.7 or negativity_score > 0.7:\n",
    "        return f\"🚨 **High Risk Detected!**\\nI'm really concerned about you. Please seek immediate help! 💙\\n📞 **Emergency Hotline:** Call 988 (USA) / 116 123 (UK & EU) / 113 (Netherlands)\\n\\n💡 **Negative Score:** {negativity_score:.2f}\"\n",
    "    elif toxicity > 0.4 or insult > 0.4 or sentiment_score < -0.4 or negativity_score > 0.4:\n",
    "        return f\"⚠️ **Moderate Risk.**\\nIt sounds like you're going through something difficult. Would you like to talk more? I'm here to listen. 💙\\n\\n💡 **Negative Score:** {negativity_score:.2f}\"\n",
    "    else:\n",
    "        return f\"✅ **No Risk Detected.**\\nI'm always here if you need someone to talk to. 😊 Just tell me what's happening.\\n\\n💡 **Negative Score:** {negativity_score:.2f}\"\n",
    "\n",
    "# Gradio Chat Interface\n",
    "iface = gr.ChatInterface(\n",
    "    fn=chatbot_response, \n",
    "    title=\"Vera\",\n",
    "    description=\"A chatbot that uses AI models to detect suicide risk and provide support. 💙\",\n",
    "    theme=\"compact\"\n",
    ")\n",
    "\n",
    "# Launch the chatbot\n",
    "iface.launch()"
   ]
  },
  {
   "cell_type": "code",
   "execution_count": 2,
   "metadata": {},
   "outputs": [
    {
     "name": "stderr",
     "output_type": "stream",
     "text": [
      "No model was supplied, defaulted to distilbert/distilbert-base-uncased-finetuned-sst-2-english and revision 714eb0f (https://huggingface.co/distilbert/distilbert-base-uncased-finetuned-sst-2-english).\n",
      "Using a pipeline without specifying a model name and revision in production is not recommended.\n",
      "Device set to use mps:0\n",
      "/opt/anaconda3/lib/python3.12/site-packages/gradio/blocks.py:1057: UserWarning: Cannot load compact. Caught Exception: 404 Client Error: Not Found for url: https://huggingface.co/api/spaces/compact (Request ID: Root=1-679f4e05-155f6e4a0afec9da584de0b8;7d700592-7331-42bf-ba33-65eef51521d1)\n",
      "\n",
      "Sorry, we can't find the page you are looking for.\n",
      "  warnings.warn(f\"Cannot load {theme}. Caught Exception: {str(e)}\")\n",
      "/opt/anaconda3/lib/python3.12/site-packages/gradio/components/chatbot.py:288: UserWarning: The 'tuples' format for chatbot messages is deprecated and will be removed in a future version of Gradio. Please set type='messages' instead, which uses openai-style 'role' and 'content' keys.\n",
      "  warnings.warn(\n"
     ]
    },
    {
     "name": "stdout",
     "output_type": "stream",
     "text": [
      "* Running on local URL:  http://127.0.0.1:7861\n",
      "\n",
      "To create a public link, set `share=True` in `launch()`.\n"
     ]
    },
    {
     "data": {
      "text/html": [
       "<div><iframe src=\"http://127.0.0.1:7861/\" width=\"100%\" height=\"500\" allow=\"autoplay; camera; microphone; clipboard-read; clipboard-write;\" frameborder=\"0\" allowfullscreen></iframe></div>"
      ],
      "text/plain": [
       "<IPython.core.display.HTML object>"
      ]
     },
     "metadata": {},
     "output_type": "display_data"
    },
    {
     "data": {
      "text/plain": []
     },
     "execution_count": 2,
     "metadata": {},
     "output_type": "execute_result"
    }
   ],
   "source": [
    "import gradio as gr\n",
    "import torch\n",
    "from transformers import pipeline\n",
    "from vaderSentiment.vaderSentiment import SentimentIntensityAnalyzer\n",
    "from detoxify import Detoxify\n",
    "\n",
    "# Initialize AI Models\n",
    "sia = SentimentIntensityAnalyzer()\n",
    "sentiment_pipeline = pipeline(\"sentiment-analysis\")\n",
    "\n",
    "# Conversation Memory\n",
    "conversation_history = {}\n",
    "\n",
    "# Function to process conversation and detect risk level\n",
    "def vera_chat(message, history):\n",
    "    \"\"\"\n",
    "    AI-powered chatbot that:\n",
    "    - Responds relevantly to each message\n",
    "    - Listens and provides emotional support\n",
    "    - Uses AI to detect suicide risk\n",
    "    - Encourages self-care for moderate distress\n",
    "    - Urges immediate action for high-risk messages\n",
    "    \"\"\"\n",
    "\n",
    "    user_id = \"user_1\"  # For future session memory\n",
    "    message = message.strip().lower()\n",
    "\n",
    "    # Step 1: Start a Friendly Conversation\n",
    "    if message in [\"hello\", \"hi\", \"hey\", \"hola\", \"bonjour\"]:\n",
    "        conversation_history[user_id] = []  # Reset chat history\n",
    "        return \"👋 Hi! I'm Vera. How are you feeling today? 💙\"\n",
    "\n",
    "    if \"how are you\" in message:\n",
    "        return \"😊 I'm just a chatbot, but I'm happy to be here for you. What’s on your mind?\"\n",
    "\n",
    "    if \"help\" in message:\n",
    "        return \"💙 Of course! Tell me what’s been going on. I’m here to listen.\"\n",
    "\n",
    "    # Step 2: Analyze Sentiment & Toxicity\n",
    "    sentiment_score = sia.polarity_scores(message)[\"compound\"]\n",
    "    toxicity_scores = Detoxify(\"original\").predict(message)\n",
    "\n",
    "    # Extract AI Model Predictions\n",
    "    toxicity = toxicity_scores[\"toxicity\"]\n",
    "    severe_toxicity = toxicity_scores[\"severe_toxicity\"]\n",
    "    insult = toxicity_scores[\"insult\"]\n",
    "    threat = toxicity_scores[\"threat\"]\n",
    "\n",
    "    # Advanced BERT Sentiment Scoring\n",
    "    bert_sentiment = sentiment_pipeline(message)\n",
    "    negativity_score = bert_sentiment[0][\"score\"] if bert_sentiment[0][\"label\"] == \"NEGATIVE\" else 0\n",
    "\n",
    "    # Store message history\n",
    "    conversation_history[user_id].append(message)\n",
    "\n",
    "    # Step 3: Handle Suicide Risk Detection\n",
    "    if toxicity > 0.7 or severe_toxicity > 0.5 or threat > 0.5 or sentiment_score < -0.7 or negativity_score > 0.7:\n",
    "        return (\"🚨 **I’m really concerned about you. Please don’t go through this alone.**\\n\"\n",
    "                \"💙 **You are important, and you deserve support.**\\n\"\n",
    "                \"📞 **Emergency Hotline:** Call 988 (USA) / 116 123 (UK & EU) / 113 (Netherlands)\\n\"\n",
    "                \"🫂 **Please don’t do anything right now. Breathe. Stay with me.**\\n\"\n",
    "                \"Would you like to talk about what’s been making you feel this way?\")\n",
    "\n",
    "    # Step 4: If User is Sad, Respond with Empathy & Ask More\n",
    "    if negativity_score > 0.4 and toxicity < 0.5:\n",
    "        return \"💙 That sounds really tough. What’s been on your mind lately? I’m here for you.\"\n",
    "\n",
    "    # Step 5: If User Expresses Stress or Anxiety, Suggest Self-Care\n",
    "    if \"stressed\" in message or \"anxious\" in message or \"overwhelmed\" in message:\n",
    "        return \"🌿 I understand. When I feel overwhelmed, I try deep breathing or taking a short walk. Have you tried that before?\"\n",
    "\n",
    "    if \"tired\" in message:\n",
    "        return \"😴 I hear you. Sometimes rest is the best thing. Have you been getting enough sleep lately?\"\n",
    "\n",
    "    if \"alone\" in message:\n",
    "        return \"💙 I want you to know that you’re not alone. I’m here to talk, and I care about you.\"\n",
    "\n",
    "    # Step 6: Default Friendly Response if No Specific Issue Detected\n",
    "    return \"💙 I’m always here to listen. What’s been on your mind today?\"\n",
    "\n",
    "# Gradio Chat Interface\n",
    "iface = gr.ChatInterface(\n",
    "    fn=vera_chat, \n",
    "    title=\"Vera - Your AI Support Friend 💙\",\n",
    "    description=\"A chatbot that listens, supports, and helps when you need it most. 💙\",\n",
    "    theme=\"compact\"\n",
    ")\n",
    "\n",
    "# Launch Vera\n",
    "iface.launch()\n"
   ]
  }
 ],
 "metadata": {
  "kernelspec": {
   "display_name": "base",
   "language": "python",
   "name": "python3"
  },
  "language_info": {
   "codemirror_mode": {
    "name": "ipython",
    "version": 3
   },
   "file_extension": ".py",
   "mimetype": "text/x-python",
   "name": "python",
   "nbconvert_exporter": "python",
   "pygments_lexer": "ipython3",
   "version": "3.12.4"
  }
 },
 "nbformat": 4,
 "nbformat_minor": 2
}
